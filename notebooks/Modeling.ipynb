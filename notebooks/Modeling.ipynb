{
 "cells": [
  {
   "cell_type": "markdown",
   "id": "634666ec",
   "metadata": {},
   "source": [
    "Copyright (c) 2024 Houssem Ben Braiek, Emilio Rivera-Landos, IVADO, SEMLA\n",
    "\n",
    "Permission is hereby granted, free of charge, to any person obtaining a copy\n",
    "of this software and associated documentation files (the \"Software\"), to deal\n",
    "in the Software without restriction, including without limitation the rights\n",
    "to use, copy, modify, merge, publish, distribute, sublicense, and/or sell\n",
    "copies of the Software, and to permit persons to whom the Software is\n",
    "furnished to do so, subject to the following conditions:\n",
    "\n",
    "The above copyright notice and this permission notice shall be included in all\n",
    "copies or substantial portions of the Software.\n",
    "\n",
    "THE SOFTWARE IS PROVIDED \"AS IS\", WITHOUT WARRANTY OF ANY KIND, EXPRESS OR\n",
    "IMPLIED, INCLUDING BUT NOT LIMITED TO THE WARRANTIES OF MERCHANTABILITY,\n",
    "FITNESS FOR A PARTICULAR PURPOSE AND NONINFRINGEMENT. IN NO EVENT SHALL THE\n",
    "AUTHORS OR COPYRIGHT HOLDERS BE LIABLE FOR ANY CLAIM, DAMAGES OR OTHER\n",
    "LIABILITY, WHETHER IN AN ACTION OF CONTRACT, TORT OR OTHERWISE, ARISING FROM,\n",
    "OUT OF OR IN CONNECTION WITH THE SOFTWARE OR THE USE OR OTHER DEALINGS IN THE\n",
    "SOFTWARE."
   ]
  },
  {
   "cell_type": "markdown",
   "id": "c6893f29-f790-4560-8fd9-b0bdb724b710",
   "metadata": {},
   "source": [
    "# The Modelling Process\n",
    "In this notebook, we also leverage our library to automate repetitive tasks, ensuring a more efficient and organized workflow."
   ]
  },
  {
   "cell_type": "code",
   "execution_count": null,
   "id": "7d53708f-1d42-497e-bd12-f62fc3d0d7f7",
   "metadata": {},
   "outputs": [],
   "source": [
    "%load_ext autoreload\n",
    "%autoreload 2\n",
    "from pathlib import Path\n",
    "\n",
    "# TODO: comment out if you want to check info logs\n",
    "# import logging\n",
    "# logging.basicConfig(level=logging.INFO)\n",
    "import joblib\n",
    "from sklearn.cluster import KMeans, MiniBatchKMeans\n",
    "from sklearn.ensemble import RandomForestClassifier\n",
    "from sklearn.metrics import RocCurveDisplay\n",
    "from sklearn.neural_network import MLPClassifier\n",
    "from sklearn.pipeline import Pipeline\n",
    "from sklearn.tree import DecisionTreeClassifier\n",
    "\n",
    "from bank_marketing.data.make_datasets import make_bank_marketing_dataframe\n",
    "from bank_marketing.data.prep_datasets import prepare_binary_classfication_tabular_data\n",
    "from bank_marketing.features.skl_build_features import FeatureNames, make_data_transformer\n",
    "from bank_marketing.models.skl_train_models import (\n",
    "    accuracy_evaluation,\n",
    "    print_accuracy_results,\n",
    "    train_and_evaluate,\n",
    ")"
   ]
  },
  {
   "cell_type": "markdown",
   "id": "fc13b393",
   "metadata": {},
   "source": [
    "### Load the raw data saved in the EDA notebook"
   ]
  },
  {
   "cell_type": "code",
   "execution_count": null,
   "id": "568bfc23",
   "metadata": {},
   "outputs": [],
   "source": [
    "df = make_bank_marketing_dataframe(\n",
    "    '../data/start.db', '../data/external/socio_economic_indices_data.csv'\n",
    ")"
   ]
  },
  {
   "cell_type": "code",
   "execution_count": null,
   "id": "193dfb16",
   "metadata": {},
   "outputs": [],
   "source": [
    "columns = [\n",
    "    'age',\n",
    "    'job',\n",
    "    'marital',\n",
    "    'education',\n",
    "    'comm_month',\n",
    "    'comm_day',\n",
    "    'comm_type',\n",
    "    'comm_duration',\n",
    "    'curr_n_contact',\n",
    "    'days_since_last_campaign',\n",
    "    'last_n_contact',\n",
    "    'last_outcome',\n",
    "    'emp.var.rate',\n",
    "    'cons.price.idx',\n",
    "    'cons.conf.idx',\n",
    "    'euribor3m',\n",
    "    'nr.employed',\n",
    "    'housing',\n",
    "    'loan',\n",
    "    'default',\n",
    "    'curr_outcome',\n",
    "]"
   ]
  },
  {
   "cell_type": "code",
   "execution_count": null,
   "id": "c6299b52",
   "metadata": {},
   "outputs": [],
   "source": [
    "df = df[columns]"
   ]
  },
  {
   "cell_type": "markdown",
   "id": "c6233fd2-dd07-443b-b7ed-45356581ae88",
   "metadata": {},
   "source": [
    "## Iteration 1\n",
    "In this initial iteration, we prepare the dataset for binary classification modeling and proceed to test our first baseline model, the Decision Tree, using our library."
   ]
  },
  {
   "cell_type": "code",
   "execution_count": null,
   "id": "28098c22",
   "metadata": {},
   "outputs": [],
   "source": [
    "predictors = list(df.columns)\n",
    "predictors.remove('curr_outcome')\n",
    "predictors.remove('comm_duration')\n",
    "predicted = 'curr_outcome'"
   ]
  },
  {
   "cell_type": "code",
   "execution_count": null,
   "id": "18f2779e",
   "metadata": {},
   "outputs": [],
   "source": [
    "dataset = prepare_binary_classfication_tabular_data(\n",
    "    df, predictors, predicted, pos_neg_pair=('yes', 'no')\n",
    ")"
   ]
  },
  {
   "cell_type": "code",
   "execution_count": null,
   "id": "abba6624",
   "metadata": {},
   "outputs": [],
   "source": [
    "numerical_cols = dataset.train_x.select_dtypes(exclude='object').columns.tolist()\n",
    "categorical_cols = dataset.train_x.select_dtypes('object').columns.tolist()\n",
    "feature_names = FeatureNames(numerical_cols, categorical_cols)\n",
    "input_transformer = make_data_transformer(feature_names)\n",
    "classifier = DecisionTreeClassifier()"
   ]
  },
  {
   "cell_type": "code",
   "execution_count": null,
   "id": "309f851a",
   "metadata": {},
   "outputs": [],
   "source": [
    "model = Pipeline(\n",
    "    [\n",
    "        ('input_transformer', input_transformer),\n",
    "        ('classifier', classifier),\n",
    "    ]\n",
    ")\n",
    "model.fit(dataset.train_x, dataset.train_y)\n",
    "results = accuracy_evaluation(model, dataset)\n",
    "print_accuracy_results(results)"
   ]
  },
  {
   "cell_type": "code",
   "execution_count": null,
   "id": "b246897c",
   "metadata": {},
   "outputs": [],
   "source": [
    "RocCurveDisplay.from_predictions(dataset.test_y.values, model.predict_proba(dataset.test_x)[:, 1])"
   ]
  },
  {
   "cell_type": "markdown",
   "id": "a469b12d-dcb7-4575-957c-8c38b6750085",
   "metadata": {},
   "source": [
    "## Iteration 2:\n",
    "The second iteration is about testing multiple models and compare their performance. "
   ]
  },
  {
   "cell_type": "code",
   "execution_count": null,
   "id": "4e05d7ee",
   "metadata": {},
   "outputs": [],
   "source": [
    "classifiers_list = [DecisionTreeClassifier, MLPClassifier, RandomForestClassifier]\n",
    "results = train_and_evaluate(dataset, feature_names, classifiers_list)\n",
    "print_accuracy_results(results)"
   ]
  },
  {
   "cell_type": "markdown",
   "id": "ce531363-7dd7-4d34-a33f-d249d13ed7b1",
   "metadata": {},
   "source": [
    "## Iteration 3\n",
    "The third iteration is about testing advanced feature engineering with multiple models and comparing their performance. "
   ]
  },
  {
   "cell_type": "code",
   "execution_count": null,
   "id": "7fb27b941602401d91542211134fc71a",
   "metadata": {},
   "outputs": [],
   "source": [
    "from bank_marketing.features.skl_build_features import (\n",
    "    AdvFeatureNames,\n",
    "    make_advanced_data_transformer,\n",
    ")\n",
    "from bank_marketing.models.skl_train_models import advanced_train_and_evaluate"
   ]
  },
  {
   "cell_type": "code",
   "execution_count": null,
   "id": "725955c2",
   "metadata": {},
   "outputs": [],
   "source": [
    "person_info_cols_cat = ['job', 'marital', 'education', 'default', 'housing', 'loan', 'comm_type']\n",
    "person_info_cols_num = ['age']\n",
    "num_cols_wo_customer = [\n",
    "    'curr_n_contact',\n",
    "    'days_since_last_campaign',\n",
    "    'last_n_contact',\n",
    "    'emp.var.rate',\n",
    "    'cons.price.idx',\n",
    "    'cons.conf.idx',\n",
    "    'euribor3m',\n",
    "    'nr.employed',\n",
    "]\n",
    "cat_cols_wo_customer = ['comm_month', 'comm_day', 'last_outcome']"
   ]
  },
  {
   "cell_type": "code",
   "execution_count": null,
   "id": "acae54e37e7d407bbb7b55eff062a284",
   "metadata": {},
   "outputs": [],
   "source": [
    "adv_feature_names = AdvFeatureNames(\n",
    "    person_info_cols_num, person_info_cols_cat, num_cols_wo_customer, cat_cols_wo_customer\n",
    ")"
   ]
  },
  {
   "cell_type": "code",
   "execution_count": null,
   "id": "d75769b0",
   "metadata": {},
   "outputs": [],
   "source": [
    "classifiers_list = [DecisionTreeClassifier, RandomForestClassifier]\n",
    "clustering_algos_list = [KMeans, MiniBatchKMeans]\n",
    "results = advanced_train_and_evaluate(\n",
    "    dataset, adv_feature_names, clustering_algos_list, classifiers_list\n",
    ")\n",
    "print_accuracy_results(results)"
   ]
  },
  {
   "cell_type": "code",
   "execution_count": null,
   "id": "3878c2b1",
   "metadata": {},
   "outputs": [],
   "source": [
    "data_transformer = make_advanced_data_transformer(adv_feature_names, MiniBatchKMeans)\n",
    "classifier = RandomForestClassifier()\n",
    "adv_model = Pipeline(\n",
    "    [\n",
    "        ('input_transformer', data_transformer),\n",
    "        ('classifier', classifier),\n",
    "    ]\n",
    ")\n",
    "adv_model.fit(dataset.train_x, dataset.train_y)\n",
    "results = accuracy_evaluation(adv_model, dataset)\n",
    "print_accuracy_results(results)"
   ]
  },
  {
   "cell_type": "markdown",
   "id": "b12af46e",
   "metadata": {},
   "source": [
    "## Final Step\n",
    "It is important now to save our trained model as a binary file for serving. The code is provided in the next cell."
   ]
  },
  {
   "cell_type": "code",
   "execution_count": null,
   "id": "cabe323d",
   "metadata": {},
   "outputs": [],
   "source": [
    "Path('../models/').mkdir(parents=True, exist_ok=True)\n",
    "joblib.dump(adv_model, '../models/rf_with_minibatch_kmeans.joblib')"
   ]
  },
  {
   "cell_type": "code",
   "execution_count": null,
   "id": "4ea1c352",
   "metadata": {},
   "outputs": [],
   "source": [
    "# Let's load and test our model\n",
    "loaded_adv_model = joblib.load('../models/rf_with_minibatch_kmeans.joblib')\n",
    "results = accuracy_evaluation(loaded_adv_model, dataset)\n",
    "print_accuracy_results(results)"
   ]
  }
 ],
 "metadata": {
  "kernelspec": {
   "display_name": "Python 3 (ipykernel)",
   "language": "python",
   "name": "python3"
  },
  "language_info": {
   "codemirror_mode": {
    "name": "ipython",
    "version": 3
   },
   "file_extension": ".py",
   "mimetype": "text/x-python",
   "name": "python",
   "nbconvert_exporter": "python",
   "pygments_lexer": "ipython3",
   "version": "3.10.0"
  }
 },
 "nbformat": 4,
 "nbformat_minor": 5
}
